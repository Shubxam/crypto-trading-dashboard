{
 "cells": [
  {
   "cell_type": "code",
   "execution_count": 1,
   "metadata": {},
   "outputs": [],
   "source": [
    "import asyncio\n",
    "import websockets\n",
    "import json\n",
    "\n",
    "import ccxt"
   ]
  },
  {
   "cell_type": "code",
   "execution_count": 4,
   "metadata": {},
   "outputs": [],
   "source": [
    "websocket_base_url = \"wss://stream.binance.com:9443\"\n",
    "websocket_base_url_alt = \"wss://data-stream.binance.vision\""
   ]
  },
  {
   "cell_type": "code",
   "execution_count": 105,
   "metadata": {},
   "outputs": [],
   "source": [
    "interval = \"1h\"\n",
    "token = \"BTCUSDT\""
   ]
  },
  {
   "cell_type": "code",
   "execution_count": null,
   "metadata": {},
   "outputs": [],
   "source": [
    "def fetch_token_data_stream(token):\n",
    "    url = f\"{websocket_base_url}/ws/{token.lower()}@kline_{interval}\"\n",
    "    async with websockets.connect(url) as websocket:\n",
    "        while True:\n",
    "            response = await websocket.recv()\n",
    "            data = json.loads(response)\n",
    "            print(data)"
   ]
  },
  {
   "cell_type": "code",
   "execution_count": null,
   "metadata": {},
   "outputs": [],
   "source": [
    "\n",
    "\n",
    "\n",
    "\n",
    "async def fetch_binance_btcusdt():\n",
    "    url = \"wss://stream.binance.com:9443/ws/btcusdt@trade\"\n",
    "    async with websockets.connect(url) as websocket:\n",
    "        while True:\n",
    "            response = await websocket.recv()\n",
    "            data = json.loads(response)\n",
    "            print(data)\n",
    "\n",
    "\n",
    "# Run the function\n",
    "asyncio.get_event_loop().run_until_complete(fetch_binance_btcusdt())"
   ]
  },
  {
   "cell_type": "code",
   "execution_count": 34,
   "metadata": {},
   "outputs": [],
   "source": [
    "def get_top_50_mcap_assets():\n",
    "    binance = ccxt.binance()\n",
    "    markets = binance.load_markets()\n",
    "    tickers = binance.fetch_tickers()\n",
    "\n",
    "    # Filter out only USDT pairs and sort by market cap\n",
    "    usdt_pairs = {\n",
    "        symbol: ticker for symbol, ticker in tickers.items() if symbol.endswith(\"/USDT\")\n",
    "    }\n",
    "    sorted_pairs = sorted(\n",
    "        usdt_pairs.items(), key=lambda item: item[1][\"quoteVolume\"], reverse=True\n",
    "    )\n",
    "\n",
    "    # Get the top 50 pairs\n",
    "    top_50_pairs = sorted_pairs[:50]\n",
    "\n",
    "    return {pair[1][\"info\"][\"symbol\"]: pair[1][\"quoteVolume\"] for pair in top_50_pairs}\n",
    "\n",
    "\n",
    "# Run the function\n",
    "top_50_tokens = get_top_50_mcap_assets()"
   ]
  },
  {
   "cell_type": "code",
   "execution_count": null,
   "metadata": {},
   "outputs": [],
   "source": [
    "binance_base_url = \"https://api3.binance.com/api/v3\"\n",
    "top_50_tokens.keys()"
   ]
  },
  {
   "cell_type": "code",
   "execution_count": 79,
   "metadata": {},
   "outputs": [],
   "source": [
    "import requests\n",
    "import pandas as pd\n",
    "from datetime import datetime, timedelta\n",
    "\n",
    "\n",
    "def get_binance_klines(symbol, interval, start_time, limit=1000):\n",
    "    url = f\"{binance_base_url}/klines\"\n",
    "    params = {\n",
    "        \"symbol\": symbol,\n",
    "        \"interval\": interval,\n",
    "        \"startTime\": int(start_time.timestamp() * 1000),\n",
    "        \"limit\": limit,\n",
    "    }\n",
    "    response = requests.get(url, params=params)\n",
    "    data = response.json()\n",
    "    data = pd.DataFrame(\n",
    "        data,\n",
    "        columns=[\n",
    "            \"open_time\",\n",
    "            \"open\",\n",
    "            \"high\",\n",
    "            \"low\",\n",
    "            \"close\",\n",
    "            \"volume\",\n",
    "            \"timestamp\",\n",
    "            \"quote_av\",\n",
    "            \"trades\",\n",
    "            \"tb_base_av\",\n",
    "            \"tb_quote_av\",\n",
    "            \"ignore\",\n",
    "        ],\n",
    "    )\n",
    "\n",
    "    return data.loc[:, [\"timestamp\", \"open\", \"high\", \"low\", \"close\", \"volume\"]]"
   ]
  },
  {
   "cell_type": "code",
   "execution_count": 80,
   "metadata": {},
   "outputs": [],
   "source": [
    "# Define the time range for the last 2 years\n",
    "end_time = datetime.now()\n",
    "start_time = end_time - timedelta(days=2 * 365)"
   ]
  },
  {
   "cell_type": "code",
   "execution_count": null,
   "metadata": {},
   "outputs": [],
   "source": [
    "get_binance_klines(\"BTCUSDT\", \"1h\", start_time)"
   ]
  },
  {
   "cell_type": "code",
   "execution_count": null,
   "metadata": {},
   "outputs": [],
   "source": [
    "# Fetch kline data for each symbol in top_50_tokens\n",
    "all_klines_data = {}\n",
    "for symbol in top_50_tokens.keys():\n",
    "    klines_data = get_binance_klines(symbol, \"1h\", start_time, end_time)\n",
    "    all_klines_data[symbol] = klines_data"
   ]
  },
  {
   "cell_type": "code",
   "execution_count": null,
   "metadata": {},
   "outputs": [],
   "source": [
    "datetime.fromtimestamp(all_klines_data[\"BTCUSDT\"].timestamp.astype(int) // 1000)"
   ]
  },
  {
   "cell_type": "code",
   "execution_count": null,
   "metadata": {},
   "outputs": [],
   "source": [
    "pd.TimedeltaIndex(all_klines_data[\"BTCUSDT\"].timestamp, unit=\"ms\")"
   ]
  },
  {
   "cell_type": "code",
   "execution_count": null,
   "metadata": {},
   "outputs": [],
   "source": [
    "pd.to_datetime(all_klines_data[\"BTCUSDT\"].timestamp, unit=\"ms\")"
   ]
  },
  {
   "cell_type": "code",
   "execution_count": null,
   "metadata": {},
   "outputs": [],
   "source": []
  },
  {
   "cell_type": "markdown",
   "metadata": {},
   "source": [
    "## get data from binance"
   ]
  },
  {
   "cell_type": "markdown",
   "metadata": {},
   "source": [
    "### imports"
   ]
  },
  {
   "cell_type": "code",
   "execution_count": 8,
   "metadata": {},
   "outputs": [],
   "source": [
    "import pandas as pd\n",
    "import os\n",
    "import requests\n",
    "import zipfile\n",
    "from io import BytesIO\n",
    "import ccxt\n",
    "import sqlite3\n",
    "import aiosqlite\n",
    "from tqdm import tqdm\n",
    "import multiprocessing as mp"
   ]
  },
  {
   "cell_type": "markdown",
   "metadata": {},
   "source": [
    "### parameters"
   ]
  },
  {
   "cell_type": "code",
   "execution_count": 9,
   "metadata": {},
   "outputs": [],
   "source": [
    "data_url = \"https://data.binance.vision/data/spot/monthly/klines/{ticker}/{interval}/{ticker}-{interval}-{date}.zip\"\n",
    "interval = \"1h\"\n",
    "date_range = (\n",
    "    pd.date_range(start=\"2021-01\", end=\"2024-12\", freq=\"MS\").strftime(\"%Y-%m\").tolist()\n",
    ")\n"
   ]
  },
  {
   "cell_type": "code",
   "execution_count": null,
   "metadata": {},
   "outputs": [
    {
     "ename": "AttributeError",
     "evalue": "'list' object has no attribute 'keys'",
     "output_type": "error",
     "traceback": [
      "\u001b[0;31m---------------------------------------------------------------------------\u001b[0m",
      "\u001b[0;31mAttributeError\u001b[0m                            Traceback (most recent call last)",
      "Cell \u001b[0;32mIn[10], line 23\u001b[0m\n\u001b[1;32m     17\u001b[0m     \u001b[38;5;66;03m# return {pair[1][\"info\"][\"symbol\"]: pair[1][\"quoteVolume\"] for pair in top_50_pairs}\u001b[39;00m\n\u001b[1;32m     18\u001b[0m \n\u001b[1;32m     19\u001b[0m \n\u001b[1;32m     20\u001b[0m \u001b[38;5;66;03m# Run the function\u001b[39;00m\n\u001b[1;32m     21\u001b[0m top_50_tokens \u001b[38;5;241m=\u001b[39m get_top_50_mcap_assets()\n\u001b[0;32m---> 23\u001b[0m \u001b[43mtop_50_tokens\u001b[49m\u001b[38;5;241;43m.\u001b[39;49m\u001b[43mkeys\u001b[49m()\n",
      "\u001b[0;31mAttributeError\u001b[0m: 'list' object has no attribute 'keys'"
     ]
    }
   ],
   "source": [
    "def get_top_50_mcap_assets():\n",
    "    binance = ccxt.binance()\n",
    "    tickers = binance.fetch_tickers()\n",
    "\n",
    "    # Filter out only USDT pairs and sort by market cap\n",
    "    usdt_pairs = {\n",
    "        symbol: ticker for symbol, ticker in tickers.items() if symbol.endswith(\"/USDT\")\n",
    "    }\n",
    "    sorted_pairs = sorted(\n",
    "        usdt_pairs.items(), key=lambda item: item[1][\"quoteVolume\"], reverse=True\n",
    "    )\n",
    "\n",
    "    # Get the top 50 pairs\n",
    "    top_50_pairs = sorted_pairs[:50]\n",
    "    return top_50_pairs\n",
    "\n",
    "    # return {pair[1][\"info\"][\"symbol\"]: pair[1][\"quoteVolume\"] for pair in top_50_pairs}\n",
    "\n",
    "\n",
    "# Run the function\n",
    "top_50_tokens = get_top_50_mcap_assets()\n",
    "\n",
    "# top_50_tokens.keys()"
   ]
  },
  {
   "cell_type": "code",
   "execution_count": 12,
   "metadata": {},
   "outputs": [
    {
     "data": {
      "text/plain": [
       "('BTC/USDT',\n",
       " {'symbol': 'BTC/USDT',\n",
       "  'timestamp': 1736608909507,\n",
       "  'datetime': '2025-01-11T15:21:49.507Z',\n",
       "  'high': 95836.0,\n",
       "  'low': 92957.86,\n",
       "  'bid': 94439.58,\n",
       "  'bidVolume': 5.8846,\n",
       "  'ask': 94439.59,\n",
       "  'askVolume': 0.02254,\n",
       "  'vwap': 94453.69105648,\n",
       "  'open': 93096.08,\n",
       "  'close': 94439.58,\n",
       "  'last': 94439.58,\n",
       "  'previousClose': 93096.2,\n",
       "  'change': 1343.5,\n",
       "  'percentage': 1.443,\n",
       "  'average': 93767.83,\n",
       "  'baseVolume': 15972.36036,\n",
       "  'quoteVolume': 1508648390.8861551,\n",
       "  'markPrice': None,\n",
       "  'indexPrice': None,\n",
       "  'info': {'symbol': 'BTCUSDT',\n",
       "   'priceChange': '1343.50000000',\n",
       "   'priceChangePercent': '1.443',\n",
       "   'weightedAvgPrice': '94453.69105648',\n",
       "   'prevClosePrice': '93096.20000000',\n",
       "   'lastPrice': '94439.58000000',\n",
       "   'lastQty': '0.00054000',\n",
       "   'bidPrice': '94439.58000000',\n",
       "   'bidQty': '5.88460000',\n",
       "   'askPrice': '94439.59000000',\n",
       "   'askQty': '0.02254000',\n",
       "   'openPrice': '93096.08000000',\n",
       "   'highPrice': '95836.00000000',\n",
       "   'lowPrice': '92957.86000000',\n",
       "   'volume': '15972.36036000',\n",
       "   'quoteVolume': '1508648390.88615520',\n",
       "   'openTime': '1736522509507',\n",
       "   'closeTime': '1736608909507',\n",
       "   'firstId': '4394163829',\n",
       "   'lastId': '4397128887',\n",
       "   'count': '2965059'}})"
      ]
     },
     "execution_count": 12,
     "metadata": {},
     "output_type": "execute_result"
    }
   ],
   "source": [
    "top_50_tokens[0]"
   ]
  },
  {
   "cell_type": "code",
   "execution_count": 4,
   "metadata": {},
   "outputs": [
    {
     "data": {
      "text/html": [
       "<div>\n",
       "<style scoped>\n",
       "    .dataframe tbody tr th:only-of-type {\n",
       "        vertical-align: middle;\n",
       "    }\n",
       "\n",
       "    .dataframe tbody tr th {\n",
       "        vertical-align: top;\n",
       "    }\n",
       "\n",
       "    .dataframe thead th {\n",
       "        text-align: right;\n",
       "    }\n",
       "</style>\n",
       "<table border=\"1\" class=\"dataframe\">\n",
       "  <thead>\n",
       "    <tr style=\"text-align: right;\">\n",
       "      <th></th>\n",
       "      <th>Token</th>\n",
       "      <th>Market Cap</th>\n",
       "    </tr>\n",
       "  </thead>\n",
       "  <tbody>\n",
       "    <tr>\n",
       "      <th>0</th>\n",
       "      <td>BTCUSDT</td>\n",
       "      <td>1.999356e+09</td>\n",
       "    </tr>\n",
       "    <tr>\n",
       "      <th>1</th>\n",
       "      <td>ETHUSDT</td>\n",
       "      <td>1.011797e+09</td>\n",
       "    </tr>\n",
       "    <tr>\n",
       "      <th>2</th>\n",
       "      <td>SOLUSDT</td>\n",
       "      <td>5.829927e+08</td>\n",
       "    </tr>\n",
       "    <tr>\n",
       "      <th>3</th>\n",
       "      <td>XRPUSDT</td>\n",
       "      <td>5.532881e+08</td>\n",
       "    </tr>\n",
       "    <tr>\n",
       "      <th>4</th>\n",
       "      <td>USDCUSDT</td>\n",
       "      <td>5.513838e+08</td>\n",
       "    </tr>\n",
       "  </tbody>\n",
       "</table>\n",
       "</div>"
      ],
      "text/plain": [
       "      Token    Market Cap\n",
       "0   BTCUSDT  1.999356e+09\n",
       "1   ETHUSDT  1.011797e+09\n",
       "2   SOLUSDT  5.829927e+08\n",
       "3   XRPUSDT  5.532881e+08\n",
       "4  USDCUSDT  5.513838e+08"
      ]
     },
     "execution_count": 4,
     "metadata": {},
     "output_type": "execute_result"
    }
   ],
   "source": [
    "# Create a dataframe from the top_50_tokens dictionary\n",
    "df_top_50_tokens = pd.DataFrame(\n",
    "    list(top_50_tokens.items()), columns=[\"Token\", \"Market Cap\"]\n",
    ")\n",
    "\n",
    "df_top_50_tokens.head()"
   ]
  },
  {
   "cell_type": "code",
   "execution_count": 5,
   "metadata": {},
   "outputs": [],
   "source": [
    "# crossproduct of tokens and date range\n",
    "cross_product = [\n",
    "    data_url.format(ticker=ticker, interval=interval, date=date)\n",
    "    for ticker in df_top_50_tokens[\"Token\"]\n",
    "    for date in date_range\n",
    "]"
   ]
  },
  {
   "cell_type": "code",
   "execution_count": 6,
   "metadata": {},
   "outputs": [],
   "source": [
    "# Connect to SQLite database (or create it if it doesn't exist)\n",
    "conn = sqlite3.connect(\"data.db\")\n",
    "cursor = conn.cursor()\n",
    "\n",
    "# Create a table with the specified columns\n",
    "cursor.execute(\"\"\"\n",
    "CREATE TABLE IF NOT EXISTS token_prices (\n",
    "    token_name TEXT,\n",
    "    timestamp DATETIME,\n",
    "    open REAL,\n",
    "    high REAL,\n",
    "    low REAL,\n",
    "    close REAL,\n",
    "    volume REAL\n",
    ")\n",
    "\"\"\")\n",
    "\n",
    "# Commit the changes and close the connection\n",
    "conn.commit()\n",
    "conn.close()"
   ]
  },
  {
   "cell_type": "code",
   "execution_count": 7,
   "metadata": {},
   "outputs": [],
   "source": [
    "failed_tokens = []\n",
    "failed_urls = []"
   ]
  },
  {
   "cell_type": "code",
   "execution_count": 11,
   "metadata": {},
   "outputs": [],
   "source": [
    "def get_price_df(url):\n",
    "    file_name = f\"{url.split('/')[-1].split('.')[0]}.csv\"\n",
    "    token = url.split(\"/\")[-2]\n",
    "\n",
    "    # Download and extract the data if it doesn't exist\n",
    "    if not os.path.exists(f\"./data/{file_name}\"):\n",
    "        response = requests.get(url)\n",
    "        if response.status_code == 200:\n",
    "            with zipfile.ZipFile(BytesIO(response.content)) as z:\n",
    "                z.extractall(\"data\")\n",
    "            # print(f\"Downloaded and extracted data for {url}\")\n",
    "        else:\n",
    "            print(f\"Failed to download data for {url}\")\n",
    "            failed_urls.append(url)\n",
    "            failed_tokens.append(token)\n",
    "\n",
    "    df = (\n",
    "        pd.read_csv(f\"./data/{file_name}\", header=None)\n",
    "        .iloc[:, [6, 1, 2, 3, 4, 5]]\n",
    "        .rename(\n",
    "            columns={\n",
    "                6: \"timestamp\",\n",
    "                1: \"open\",\n",
    "                2: \"high\",\n",
    "                3: \"low\",\n",
    "                4: \"close\",\n",
    "                5: \"volume\",\n",
    "            }\n",
    "        )\n",
    "    )\n",
    "\n",
    "    df = df.astype({\n",
    "        \"timestamp\": \"datetime64[ms]\",\n",
    "        \"open\": \"float64\",\n",
    "        \"high\": \"float64\",\n",
    "        \"low\": \"float64\",\n",
    "        \"close\": \"float64\",\n",
    "        \"volume\": \"float64\",\n",
    "    })\n",
    "\n",
    "    df[\"token\"] = url.split(\"/\")[-1].split(\"-\")[0]\n",
    "\n",
    "    # print(f\"Inserted data for {url} into SQLite database\")\n",
    "\n",
    "    return df"
   ]
  },
  {
   "cell_type": "code",
   "execution_count": null,
   "metadata": {},
   "outputs": [],
   "source": [
    "import concurrent.futures\n",
    "\n",
    "# Define the number of workers to use\n",
    "num_workers = 8\n",
    "\n",
    "# Use ThreadPoolExecutor to download data concurrently\n",
    "with concurrent.futures.ThreadPoolExecutor(max_workers=num_workers) as executor:\n",
    "    # Map the get_price_df function to the cross_product list\n",
    "    price_data_df = list(\n",
    "        tqdm(executor.map(get_price_df, cross_product), total=len(cross_product))\n",
    "    )"
   ]
  },
  {
   "cell_type": "code",
   "execution_count": null,
   "metadata": {},
   "outputs": [],
   "source": [
    "price_data_df"
   ]
  },
  {
   "cell_type": "code",
   "execution_count": null,
   "metadata": {},
   "outputs": [],
   "source": [
    "await get_price_df(cross_product[0])"
   ]
  },
  {
   "cell_type": "code",
   "execution_count": null,
   "metadata": {},
   "outputs": [],
   "source": [
    " async with aiosqlite.connect(\"data.db\") as db:\n",
    "            await db.executemany(\n",
    "                \"\"\"\n",
    "                INSERT INTO token_prices (token_name, timestamp, open, high, low, close, volume)\n",
    "                VALUES (?, ?, ?, ?, ?, ?, ?)\n",
    "                \"\"\",\n",
    "                df[\n",
    "                    [\"token\", \"timestamp\", \"open\", \"high\", \"low\", \"close\", \"volume\"]\n",
    "                ].values.tolist(),\n",
    "            )\n",
    "            await db.commit()"
   ]
  },
  {
   "cell_type": "code",
   "execution_count": null,
   "metadata": {},
   "outputs": [],
   "source": []
  }
 ],
 "metadata": {
  "kernelspec": {
   "display_name": ".venv",
   "language": "python",
   "name": "python3"
  },
  "language_info": {
   "codemirror_mode": {
    "name": "ipython",
    "version": 3
   },
   "file_extension": ".py",
   "mimetype": "text/x-python",
   "name": "python",
   "nbconvert_exporter": "python",
   "pygments_lexer": "ipython3",
   "version": "3.12.4"
  }
 },
 "nbformat": 4,
 "nbformat_minor": 2
}
