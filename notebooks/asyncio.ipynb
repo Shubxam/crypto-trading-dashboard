{
 "cells": [
  {
   "cell_type": "markdown",
   "metadata": {},
   "source": [
    "# Asyncio \n",
    "\n",
    "## Introduction\n",
    "\n",
    "This notebook is an introduction to the asyncio module in Python. The asyncio module provides a framework for writing single-threaded concurrent code using coroutines, multiplexing I/O access over sockets and other resources, running network clients and servers, and other related primitives.\n",
    "\n",
    "## Table of Contents\n",
    "\n",
    "1. [Coroutines](#Coroutines)\n",
    "2. [Tasks](#Tasks)\n",
    "3. [Futures](#Futures)\n",
    "4. [Event Loop](#Event-Loop)\n",
    "5. [Running Tasks Concurrently](#Running-Tasks-Concurrently)\n",
    "6. [Running Tasks Concurrently with asyncio.gather](#Running-Tasks-Concurrently-with-asyncio.gather)\n",
    "7. [Running Tasks Concurrently with asyncio.wait](#Running-Tasks-Concurrently-with-asyncio.wait)\n",
    "8. [Example: Ingesting Binance BTCUSDT Spot Data](#Example-Ingesting-Binance-BTCUSDT-Spot-Data)\n",
    "\n",
    "\n",
    "\n"
   ]
  },
  {
   "cell_type": "markdown",
   "metadata": {},
   "source": [
    "## Coroutines\n",
    "\n",
    "A coroutine is a specialized version of a Python generator function. A coroutine is defined using the `async def` syntax. The `await` keyword is used to pause the execution of a coroutine until the result of an asynchronous operation is available.\n",
    "\n",
    "The following example demonstrates how to define a coroutine function and call it using the `await` keyword."
   ]
  },
  {
   "cell_type": "code",
   "execution_count": 24,
   "metadata": {},
   "outputs": [
    {
     "name": "stdout",
     "output_type": "stream",
     "text": [
      "My coroutine\n"
     ]
    }
   ],
   "source": [
    "# The following example demonstrates how to define a coroutine function and call it using the `await` keyword.\n",
    "\n",
    "import asyncio\n",
    "\n",
    "\n",
    "async def my_coroutine():\n",
    "    print(\"My coroutine\")\n",
    "\n",
    "\n",
    "async def main():\n",
    "    await my_coroutine()\n",
    "\n",
    "\n",
    "await main()"
   ]
  },
  {
   "cell_type": "markdown",
   "metadata": {},
   "source": [
    "In the above example, we defined a coroutine function called `my_coroutine` that prints a message to the console.\n",
    "\n",
    "## Tasks\n",
    "\n",
    "A task is a subclass of `Future` that wraps a coroutine. Tasks are used to schedule coroutines concurrently. The `asyncio.create_task` function is used to create a task from a coroutine.\n",
    "\n"
   ]
  },
  {
   "cell_type": "code",
   "execution_count": 25,
   "metadata": {},
   "outputs": [
    {
     "name": "stdout",
     "output_type": "stream",
     "text": [
      "My coroutine\n"
     ]
    }
   ],
   "source": [
    "# The following example demonstrates how to create a task from a coroutine and run it using the `await` keyword.\n",
    "\n",
    "\n",
    "async def my_coroutine():\n",
    "    print(\"My coroutine\")\n",
    "\n",
    "\n",
    "async def main():\n",
    "    task = asyncio.create_task(my_coroutine())\n",
    "    await task\n",
    "\n",
    "\n",
    "await main()\n",
    "\n",
    "# Output:\n",
    "# My coroutine"
   ]
  },
  {
   "cell_type": "markdown",
   "metadata": {},
   "source": [
    "## Futures\n",
    "\n",
    "A future is a low-level awaitable object that represents the result of an asynchronous operation. Futures are used to build higher-level abstractions like tasks and awaitables. The `asyncio.Future` class is used to create a future object.\n",
    "\n",
    "The `asyncio.Future` class provides the following methods:\n",
    "\n",
    "- `add_done_callback(callback)`: Adds a callback to be run when the future is done.\n",
    "- `remove_done_callback(callback)`: Removes a callback from the future.\n",
    "- `set_result(result)`: Sets the result of the future.\n",
    "- `set_exception(exception)`: Sets the exception of the future.\n",
    "- `result()`: Returns the result of the future.\n",
    "- `exception()`: Returns the exception of the future.\n",
    "- `done()`: Returns True if the future is done.\n",
    "- `cancelled()`: Returns True if the future was cancelled."
   ]
  },
  {
   "cell_type": "code",
   "execution_count": 27,
   "metadata": {},
   "outputs": [
    {
     "name": "stdout",
     "output_type": "stream",
     "text": [
      "My coroutine\n",
      "42\n"
     ]
    }
   ],
   "source": [
    "# The following example demonstrates how to create a future object and set its result using the `set_result` method.\n",
    "\n",
    "# Define a coroutine that prints a message and returns a value\n",
    "async def my_coroutine():\n",
    "    print(\"My coroutine\")\n",
    "    return 42\n",
    "\n",
    "\n",
    "# Define the main coroutine\n",
    "async def main():\n",
    "    # Create a Future object\n",
    "    future = asyncio.Future()\n",
    "    # Set the result of the Future object using the result of the coroutine\n",
    "    future.set_result(await my_coroutine())\n",
    "    # Print the result of the Future object\n",
    "    print(future.result())\n",
    "\n",
    "\n",
    "# Run the main coroutine\n",
    "await main()\n",
    "\n",
    "# Output:\n",
    "# My coroutine\n",
    "# 42\n"
   ]
  },
  {
   "cell_type": "markdown",
   "metadata": {},
   "source": [
    "## Event Loop\n",
    "\n",
    "The event loop is the core of the asyncio module. The event loop is responsible for running tasks and managing the execution of coroutines. The `asyncio.get_event_loop` function is used to get the current event loop. The `loop.run_until_complete` method is used to run a coroutine until it is complete."
   ]
  },
  {
   "cell_type": "code",
   "execution_count": 28,
   "metadata": {},
   "outputs": [
    {
     "ename": "RuntimeError",
     "evalue": "This event loop is already running",
     "output_type": "error",
     "traceback": [
      "\u001b[0;31m---------------------------------------------------------------------------\u001b[0m",
      "\u001b[0;31mRuntimeError\u001b[0m                              Traceback (most recent call last)",
      "Cell \u001b[0;32mIn[28], line 10\u001b[0m\n\u001b[1;32m      6\u001b[0m     \u001b[38;5;28;01mreturn\u001b[39;00m \u001b[38;5;241m42\u001b[39m\n\u001b[1;32m      9\u001b[0m loop \u001b[38;5;241m=\u001b[39m asyncio\u001b[38;5;241m.\u001b[39mget_event_loop()\n\u001b[0;32m---> 10\u001b[0m result \u001b[38;5;241m=\u001b[39m \u001b[43mloop\u001b[49m\u001b[38;5;241;43m.\u001b[39;49m\u001b[43mrun_until_complete\u001b[49m\u001b[43m(\u001b[49m\u001b[43mmy_coroutine\u001b[49m\u001b[43m(\u001b[49m\u001b[43m)\u001b[49m\u001b[43m)\u001b[49m\n\u001b[1;32m     11\u001b[0m \u001b[38;5;28mprint\u001b[39m(result)\n\u001b[1;32m     13\u001b[0m \u001b[38;5;66;03m# Output:\u001b[39;00m\n\u001b[1;32m     14\u001b[0m \u001b[38;5;66;03m# My coroutine\u001b[39;00m\n\u001b[1;32m     15\u001b[0m \u001b[38;5;66;03m# 42\u001b[39;00m\n",
      "File \u001b[0;32m/opt/homebrew/Caskroom/miniconda/base/lib/python3.12/asyncio/base_events.py:663\u001b[0m, in \u001b[0;36mBaseEventLoop.run_until_complete\u001b[0;34m(self, future)\u001b[0m\n\u001b[1;32m    652\u001b[0m \u001b[38;5;250m\u001b[39m\u001b[38;5;124;03m\"\"\"Run until the Future is done.\u001b[39;00m\n\u001b[1;32m    653\u001b[0m \n\u001b[1;32m    654\u001b[0m \u001b[38;5;124;03mIf the argument is a coroutine, it is wrapped in a Task.\u001b[39;00m\n\u001b[0;32m   (...)\u001b[0m\n\u001b[1;32m    660\u001b[0m \u001b[38;5;124;03mReturn the Future's result, or raise its exception.\u001b[39;00m\n\u001b[1;32m    661\u001b[0m \u001b[38;5;124;03m\"\"\"\u001b[39;00m\n\u001b[1;32m    662\u001b[0m \u001b[38;5;28mself\u001b[39m\u001b[38;5;241m.\u001b[39m_check_closed()\n\u001b[0;32m--> 663\u001b[0m \u001b[38;5;28;43mself\u001b[39;49m\u001b[38;5;241;43m.\u001b[39;49m\u001b[43m_check_running\u001b[49m\u001b[43m(\u001b[49m\u001b[43m)\u001b[49m\n\u001b[1;32m    665\u001b[0m new_task \u001b[38;5;241m=\u001b[39m \u001b[38;5;129;01mnot\u001b[39;00m futures\u001b[38;5;241m.\u001b[39misfuture(future)\n\u001b[1;32m    666\u001b[0m future \u001b[38;5;241m=\u001b[39m tasks\u001b[38;5;241m.\u001b[39mensure_future(future, loop\u001b[38;5;241m=\u001b[39m\u001b[38;5;28mself\u001b[39m)\n",
      "File \u001b[0;32m/opt/homebrew/Caskroom/miniconda/base/lib/python3.12/asyncio/base_events.py:622\u001b[0m, in \u001b[0;36mBaseEventLoop._check_running\u001b[0;34m(self)\u001b[0m\n\u001b[1;32m    620\u001b[0m \u001b[38;5;28;01mdef\u001b[39;00m\u001b[38;5;250m \u001b[39m\u001b[38;5;21m_check_running\u001b[39m(\u001b[38;5;28mself\u001b[39m):\n\u001b[1;32m    621\u001b[0m     \u001b[38;5;28;01mif\u001b[39;00m \u001b[38;5;28mself\u001b[39m\u001b[38;5;241m.\u001b[39mis_running():\n\u001b[0;32m--> 622\u001b[0m         \u001b[38;5;28;01mraise\u001b[39;00m \u001b[38;5;167;01mRuntimeError\u001b[39;00m(\u001b[38;5;124m'\u001b[39m\u001b[38;5;124mThis event loop is already running\u001b[39m\u001b[38;5;124m'\u001b[39m)\n\u001b[1;32m    623\u001b[0m     \u001b[38;5;28;01mif\u001b[39;00m events\u001b[38;5;241m.\u001b[39m_get_running_loop() \u001b[38;5;129;01mis\u001b[39;00m \u001b[38;5;129;01mnot\u001b[39;00m \u001b[38;5;28;01mNone\u001b[39;00m:\n\u001b[1;32m    624\u001b[0m         \u001b[38;5;28;01mraise\u001b[39;00m \u001b[38;5;167;01mRuntimeError\u001b[39;00m(\n\u001b[1;32m    625\u001b[0m             \u001b[38;5;124m'\u001b[39m\u001b[38;5;124mCannot run the event loop while another loop is running\u001b[39m\u001b[38;5;124m'\u001b[39m)\n",
      "\u001b[0;31mRuntimeError\u001b[0m: This event loop is already running"
     ]
    }
   ],
   "source": [
    "# The following example demonstrates how to create an event loop and run a coroutine using the `run_until_complete` method.\n",
    "\n",
    "\n",
    "async def my_coroutine():\n",
    "    print(\"My coroutine\")\n",
    "    return 42\n",
    "\n",
    "\n",
    "loop = asyncio.get_event_loop()\n",
    "result = loop.run_until_complete(my_coroutine())\n",
    "print(result)\n",
    "\n",
    "# Output:\n",
    "# My coroutine\n",
    "# 42\n"
   ]
  },
  {
   "cell_type": "markdown",
   "metadata": {},
   "source": [
    "## Running Tasks Concurrently\n",
    "\n",
    "The `asyncio.gather` function is used to run multiple tasks concurrently. The `asyncio.gather` function takes a list of awaitables and returns a future that resolves when all the awaitables are done.\n",
    "\n"
   ]
  },
  {
   "cell_type": "code",
   "execution_count": 29,
   "metadata": {},
   "outputs": [
    {
     "name": "stdout",
     "output_type": "stream",
     "text": [
      "My coroutine 1\n",
      "My coroutine 2\n",
      "[42, 43]\n"
     ]
    }
   ],
   "source": [
    "# The following example demonstrates how to run multiple tasks concurrently using the `asyncio.gather` function.\n",
    "\n",
    "import asyncio\n",
    "\n",
    "\n",
    "async def my_coroutine1():\n",
    "    print(\"My coroutine 1\")\n",
    "    return 42\n",
    "\n",
    "\n",
    "async def my_coroutine2():\n",
    "    print(\"My coroutine 2\")\n",
    "    return 43\n",
    "\n",
    "\n",
    "async def main():\n",
    "    result = await asyncio.gather(my_coroutine1(), my_coroutine2())\n",
    "    print(result)\n",
    "\n",
    "\n",
    "await main()\n",
    "\n",
    "# Output:\n",
    "# My coroutine 1\n",
    "# My coroutine 2\n",
    "# [42, 43]\n"
   ]
  },
  {
   "cell_type": "markdown",
   "metadata": {},
   "source": [
    "## Running Tasks Concurrently with asyncio.wait\n",
    "\n",
    "The `asyncio.wait` function is used to run multiple tasks concurrently. The `asyncio.wait` function takes a list of awaitables and returns a set of done tasks and a set of pending tasks.\n"
   ]
  },
  {
   "cell_type": "code",
   "execution_count": 32,
   "metadata": {},
   "outputs": [
    {
     "name": "stdout",
     "output_type": "stream",
     "text": [
      "My coroutine 1\n",
      "My coroutine 2\n",
      "42\n",
      "43\n"
     ]
    }
   ],
   "source": [
    "# The following example demonstrates how to run multiple tasks concurrently using the `asyncio.wait` function.\n",
    "\n",
    "import asyncio\n",
    "\n",
    "\n",
    "async def my_coroutine1():\n",
    "    print(\"My coroutine 1\")\n",
    "    return 42\n",
    "\n",
    "\n",
    "async def my_coroutine2():\n",
    "    print(\"My coroutine 2\")\n",
    "    return 43\n",
    "\n",
    "\n",
    "async def main():\n",
    "    tasks = [asyncio.create_task(my_coroutine1()), asyncio.create_task(my_coroutine2())]\n",
    "    done, pending = await asyncio.wait(tasks)\n",
    "    for task in done:\n",
    "        print(task.result())\n",
    "\n",
    "\n",
    "await main()\n",
    "\n",
    "# Output:\n",
    "# My coroutine 1\n",
    "# My coroutine 2\n"
   ]
  },
  {
   "cell_type": "markdown",
   "metadata": {},
   "source": [
    "## Example: Ingesting Binance BTCUSDT WebSocket Data into aiosqlite Database\n",
    "\n",
    "The following example demonstrates how to ingest Binance BTCUSDT spot data into an aiosqlite database. The example uses the Binance WebSocket API to stream BTCUSDT spot data and inserts the data into an aiosqlite database.\n",
    "\n",
    "The example consists of the following steps:\n",
    "\n",
    "1. Create a coroutine function called `ingest_data` that connects to the Binance WebSocket API and inserts the data into an aiosqlite database.\n",
    "2. Create a coroutine function called `main` that creates a database connection and runs the `ingest_data` coroutine.\n",
    "3. Run the `main` coroutine using the `asyncio.run` function."
   ]
  },
  {
   "cell_type": "code",
   "execution_count": 17,
   "metadata": {},
   "outputs": [
    {
     "ename": "RuntimeError",
     "evalue": "asyncio.run() cannot be called from a running event loop",
     "output_type": "error",
     "traceback": [
      "\u001b[0;31m---------------------------------------------------------------------------\u001b[0m",
      "\u001b[0;31mRuntimeError\u001b[0m                              Traceback (most recent call last)",
      "Cell \u001b[0;32mIn[17], line 40\u001b[0m\n\u001b[1;32m     36\u001b[0m                 \u001b[38;5;28;01mawait\u001b[39;00m db\u001b[38;5;241m.\u001b[39mcommit()\n\u001b[1;32m     39\u001b[0m \u001b[38;5;66;03m# Run the ingest_data coroutine\u001b[39;00m\n\u001b[0;32m---> 40\u001b[0m \u001b[43masyncio\u001b[49m\u001b[38;5;241;43m.\u001b[39;49m\u001b[43mrun\u001b[49m\u001b[43m(\u001b[49m\u001b[43mingest_data\u001b[49m\u001b[43m(\u001b[49m\u001b[43m)\u001b[49m\u001b[43m)\u001b[49m\n\u001b[1;32m     42\u001b[0m \u001b[38;5;66;03m# The following example demonstrates how to query the database and print the first 10 rows.\u001b[39;00m\n",
      "File \u001b[0;32m/opt/homebrew/Caskroom/miniconda/base/lib/python3.12/asyncio/runners.py:190\u001b[0m, in \u001b[0;36mrun\u001b[0;34m(main, debug, loop_factory)\u001b[0m\n\u001b[1;32m    161\u001b[0m \u001b[38;5;250m\u001b[39m\u001b[38;5;124;03m\"\"\"Execute the coroutine and return the result.\u001b[39;00m\n\u001b[1;32m    162\u001b[0m \n\u001b[1;32m    163\u001b[0m \u001b[38;5;124;03mThis function runs the passed coroutine, taking care of\u001b[39;00m\n\u001b[0;32m   (...)\u001b[0m\n\u001b[1;32m    186\u001b[0m \u001b[38;5;124;03m    asyncio.run(main())\u001b[39;00m\n\u001b[1;32m    187\u001b[0m \u001b[38;5;124;03m\"\"\"\u001b[39;00m\n\u001b[1;32m    188\u001b[0m \u001b[38;5;28;01mif\u001b[39;00m events\u001b[38;5;241m.\u001b[39m_get_running_loop() \u001b[38;5;129;01mis\u001b[39;00m \u001b[38;5;129;01mnot\u001b[39;00m \u001b[38;5;28;01mNone\u001b[39;00m:\n\u001b[1;32m    189\u001b[0m     \u001b[38;5;66;03m# fail fast with short traceback\u001b[39;00m\n\u001b[0;32m--> 190\u001b[0m     \u001b[38;5;28;01mraise\u001b[39;00m \u001b[38;5;167;01mRuntimeError\u001b[39;00m(\n\u001b[1;32m    191\u001b[0m         \u001b[38;5;124m\"\u001b[39m\u001b[38;5;124masyncio.run() cannot be called from a running event loop\u001b[39m\u001b[38;5;124m\"\u001b[39m)\n\u001b[1;32m    193\u001b[0m \u001b[38;5;28;01mwith\u001b[39;00m Runner(debug\u001b[38;5;241m=\u001b[39mdebug, loop_factory\u001b[38;5;241m=\u001b[39mloop_factory) \u001b[38;5;28;01mas\u001b[39;00m runner:\n\u001b[1;32m    194\u001b[0m     \u001b[38;5;28;01mreturn\u001b[39;00m runner\u001b[38;5;241m.\u001b[39mrun(main)\n",
      "\u001b[0;31mRuntimeError\u001b[0m: asyncio.run() cannot be called from a running event loop"
     ]
    }
   ],
   "source": [
    "# Example: Ingesting Binance BTCUSDT WebSocket Data into aiosqlite Database\n",
    "\n",
    "import asyncio\n",
    "import websockets\n",
    "import json\n",
    "import aiosqlite\n",
    "from datetime import datetime\n",
    "\n",
    "\n",
    "# Coroutine to ingest data from Binance WebSocket and store it in SQLite database\n",
    "async def ingest_data():\n",
    "    # Connect to Binance WebSocket\n",
    "    async with websockets.connect(\n",
    "        \"wss://stream.binance.com:9443/ws/btcusdt@trade\"\n",
    "    ) as ws:\n",
    "        # Connect to SQLite database (or create it if it doesn't exist)\n",
    "        async with aiosqlite.connect(\"btcusdt.db\") as db:\n",
    "            # Create table if it doesn't exist\n",
    "            await db.execute(\n",
    "                \"CREATE TABLE IF NOT EXISTS trades (timestamp TEXT, token TEXT, price REAL, quantity REAL)\"\n",
    "            )\n",
    "            await db.commit()\n",
    "            while True:\n",
    "                # Receive data from WebSocket\n",
    "                data = json.loads(await ws.recv())\n",
    "                # Insert data into SQLite database\n",
    "                await db.execute(\n",
    "                    \"INSERT INTO trades (timestamp, token, price, quantity) VALUES (?, ?, ?, ?)\",\n",
    "                    (\n",
    "                        datetime.now().isoformat(),\n",
    "                        \"BTCUSDT\",\n",
    "                        float(data[\"p\"]),\n",
    "                        float(data[\"q\"]),\n",
    "                    ),\n",
    "                )\n",
    "                await db.commit()\n",
    "\n",
    "\n",
    "# Run the ingest_data coroutine\n",
    "asyncio.run(ingest_data())\n",
    "\n",
    "# The following example demonstrates how to query the database and print the first 10 rows.\n"
   ]
  },
  {
   "cell_type": "markdown",
   "metadata": {},
   "source": [
    "## Example: Ingesting Binance BTCUSDT Spot Data\n",
    "\n",
    "In this example, we will use the asyncio module to fetch BTCUSDT spot data from the Binance API and store it in a SQLite database.\n"
   ]
  },
  {
   "cell_type": "code",
   "execution_count": null,
   "metadata": {},
   "outputs": [],
   "source": [
    "import asyncio\n",
    "import aiohttp\n",
    "import sqlite3\n",
    "\n",
    "\n",
    "async def fetch_data(session, url):\n",
    "    async with session.get(url) as response:\n",
    "        return await response.json()\n",
    "\n",
    "\n",
    "async def main():\n",
    "    url = \"https://api.binance.com/api/v3/ticker/price?symbol=BTCUSDT\"\n",
    "    async with aiohttp.ClientSession() as session:\n",
    "        data = await fetch_data(session, url)\n",
    "        print(data)\n",
    "\n",
    "        # Connect to SQLite database (or create it if it doesn't exist)\n",
    "        conn = sqlite3.connect(\"crypto_data.db\")\n",
    "        c = conn.cursor()\n",
    "\n",
    "        # Create table\n",
    "        c.execute(\"\"\"CREATE TABLE IF NOT EXISTS btcusdt\n",
    "                     (symbol text, price real)\"\"\")\n",
    "\n",
    "        # Insert data into table\n",
    "        c.execute(\n",
    "            \"INSERT INTO btcusdt (symbol, price) VALUES (?, ?)\",\n",
    "            (data[\"symbol\"], data[\"price\"]),\n",
    "        )\n",
    "\n",
    "        # Commit the transaction\n",
    "        conn.commit()\n",
    "\n",
    "        # Close the connection\n",
    "        conn.close()\n",
    "\n",
    "        print(\"Data stored in SQLite database\")\n",
    "\n",
    "\n",
    "if __name__ == \"__main__\":\n",
    "    asyncio.run(main())\n"
   ]
  },
  {
   "cell_type": "code",
   "execution_count": 3,
   "metadata": {},
   "outputs": [],
   "source": [
    "# read btcusdt.db file\n",
    "import sqlite3\n"
   ]
  },
  {
   "cell_type": "code",
   "execution_count": 18,
   "metadata": {},
   "outputs": [],
   "source": [
    "conn = sqlite3.connect(\"../btcusdt.db\")\n"
   ]
  },
  {
   "cell_type": "code",
   "execution_count": 19,
   "metadata": {},
   "outputs": [],
   "source": [
    "c = conn.cursor()\n"
   ]
  },
  {
   "cell_type": "code",
   "execution_count": 20,
   "metadata": {},
   "outputs": [
    {
     "name": "stdout",
     "output_type": "stream",
     "text": [
      "[(11537,)]\n"
     ]
    }
   ],
   "source": [
    "# Query the database and print row count\n",
    "c.execute(\"SELECT COUNT(*) from trades;\")\n",
    "print(c.fetchall())\n"
   ]
  },
  {
   "cell_type": "code",
   "execution_count": 21,
   "metadata": {},
   "outputs": [
    {
     "name": "stderr",
     "output_type": "stream",
     "text": [
      "<frozen genericpath>:89: RuntimeWarning: coroutine 'ingest_data' was never awaited\n",
      "RuntimeWarning: Enable tracemalloc to get the object allocation traceback\n"
     ]
    },
    {
     "ename": "OperationalError",
     "evalue": "no such column: timestamp",
     "output_type": "error",
     "traceback": [
      "\u001b[0;31m---------------------------------------------------------------------------\u001b[0m",
      "\u001b[0;31mOperationalError\u001b[0m                          Traceback (most recent call last)",
      "Cell \u001b[0;32mIn[21], line 1\u001b[0m\n\u001b[0;32m----> 1\u001b[0m \u001b[43mc\u001b[49m\u001b[38;5;241;43m.\u001b[39;49m\u001b[43mexecute\u001b[49m\u001b[43m(\u001b[49m\u001b[38;5;124;43m\"\u001b[39;49m\u001b[38;5;124;43mSELECT * from trades order by timestamp desc LIMIT 10;\u001b[39;49m\u001b[38;5;124;43m\"\u001b[39;49m\u001b[43m)\u001b[49m\n\u001b[1;32m      2\u001b[0m \u001b[38;5;28mprint\u001b[39m(c\u001b[38;5;241m.\u001b[39mfetchall())\n",
      "\u001b[0;31mOperationalError\u001b[0m: no such column: timestamp"
     ]
    }
   ],
   "source": [
    "c.execute(\"SELECT * from trades order by timestamp desc LIMIT 10;\")\n",
    "print(c.fetchall())"
   ]
  },
  {
   "cell_type": "code",
   "execution_count": 22,
   "metadata": {},
   "outputs": [],
   "source": [
    "conn.close()\n"
   ]
  },
  {
   "cell_type": "code",
   "execution_count": null,
   "metadata": {},
   "outputs": [],
   "source": []
  }
 ],
 "metadata": {
  "kernelspec": {
   "display_name": ".venv",
   "language": "python",
   "name": "python3"
  },
  "language_info": {
   "codemirror_mode": {
    "name": "ipython",
    "version": 3
   },
   "file_extension": ".py",
   "mimetype": "text/x-python",
   "name": "python",
   "nbconvert_exporter": "python",
   "pygments_lexer": "ipython3",
   "version": "3.12.4"
  }
 },
 "nbformat": 4,
 "nbformat_minor": 2
}
